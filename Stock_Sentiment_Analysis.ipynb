{
 "cells": [
  {
   "cell_type": "code",
   "execution_count": 1,
   "id": "representative-lottery",
   "metadata": {},
   "outputs": [
    {
     "name": "stdout",
     "output_type": "stream",
     "text": [
      "INFO:tensorflow:Enabling eager execution\n",
      "INFO:tensorflow:Enabling v2 tensorshape\n",
      "INFO:tensorflow:Enabling resource variables\n",
      "INFO:tensorflow:Enabling tensor equality\n",
      "INFO:tensorflow:Enabling control flow v2\n"
     ]
    }
   ],
   "source": [
    "# Importing the required libraries\n",
    "import pandas_datareader as pdr\n",
    "import pandas as pd\n",
    "import matplotlib.pyplot as plt\n",
    "import numpy as np\n",
    "from sklearn.preprocessing import MinMaxScaler\n",
    "from tensorflow.keras.models import Sequential\n",
    "from tensorflow.keras.layers import Dense\n",
    "from tensorflow.keras.layers import LSTM\n",
    "import math\n",
    "from sklearn.metrics import mean_squared_error\n",
    "\n",
    "%matplotlib inline"
   ]
  },
  {
   "cell_type": "markdown",
   "id": "medical-journalist",
   "metadata": {},
   "source": [
    "## Data Collection"
   ]
  },
  {
   "cell_type": "markdown",
   "id": "present-collapse",
   "metadata": {},
   "source": [
    "- df = pdr.get_data_tiingo('AAPL', api_key = 'key')"
   ]
  },
  {
   "cell_type": "markdown",
   "id": "characteristic-impression",
   "metadata": {},
   "source": [
    "- df.to_csv(\"AAPL.csv\")"
   ]
  },
  {
   "cell_type": "code",
   "execution_count": 2,
   "id": "sweet-memorial",
   "metadata": {},
   "outputs": [],
   "source": [
    "df = pd.read_csv('AAPL.csv')"
   ]
  },
  {
   "cell_type": "code",
   "execution_count": 3,
   "id": "equipped-tradition",
   "metadata": {},
   "outputs": [
    {
     "data": {
      "text/html": [
       "<div>\n",
       "<style scoped>\n",
       "    .dataframe tbody tr th:only-of-type {\n",
       "        vertical-align: middle;\n",
       "    }\n",
       "\n",
       "    .dataframe tbody tr th {\n",
       "        vertical-align: top;\n",
       "    }\n",
       "\n",
       "    .dataframe thead th {\n",
       "        text-align: right;\n",
       "    }\n",
       "</style>\n",
       "<table border=\"1\" class=\"dataframe\">\n",
       "  <thead>\n",
       "    <tr style=\"text-align: right;\">\n",
       "      <th></th>\n",
       "      <th>symbol</th>\n",
       "      <th>date</th>\n",
       "      <th>close</th>\n",
       "      <th>high</th>\n",
       "      <th>low</th>\n",
       "      <th>open</th>\n",
       "      <th>volume</th>\n",
       "      <th>adjClose</th>\n",
       "      <th>adjHigh</th>\n",
       "      <th>adjLow</th>\n",
       "      <th>adjOpen</th>\n",
       "      <th>adjVolume</th>\n",
       "      <th>divCash</th>\n",
       "      <th>splitFactor</th>\n",
       "    </tr>\n",
       "  </thead>\n",
       "  <tbody>\n",
       "    <tr>\n",
       "      <th>0</th>\n",
       "      <td>AAPL</td>\n",
       "      <td>2016-06-29 00:00:00+00:00</td>\n",
       "      <td>94.40</td>\n",
       "      <td>94.550</td>\n",
       "      <td>93.63</td>\n",
       "      <td>93.97</td>\n",
       "      <td>36531006</td>\n",
       "      <td>22.043669</td>\n",
       "      <td>22.078696</td>\n",
       "      <td>21.863864</td>\n",
       "      <td>21.943259</td>\n",
       "      <td>146124024</td>\n",
       "      <td>0.0</td>\n",
       "      <td>1.0</td>\n",
       "    </tr>\n",
       "    <tr>\n",
       "      <th>1</th>\n",
       "      <td>AAPL</td>\n",
       "      <td>2016-06-30 00:00:00+00:00</td>\n",
       "      <td>95.60</td>\n",
       "      <td>95.770</td>\n",
       "      <td>94.30</td>\n",
       "      <td>94.44</td>\n",
       "      <td>35836356</td>\n",
       "      <td>22.323886</td>\n",
       "      <td>22.363583</td>\n",
       "      <td>22.020318</td>\n",
       "      <td>22.053010</td>\n",
       "      <td>143345424</td>\n",
       "      <td>0.0</td>\n",
       "      <td>1.0</td>\n",
       "    </tr>\n",
       "    <tr>\n",
       "      <th>2</th>\n",
       "      <td>AAPL</td>\n",
       "      <td>2016-07-01 00:00:00+00:00</td>\n",
       "      <td>95.89</td>\n",
       "      <td>96.465</td>\n",
       "      <td>95.33</td>\n",
       "      <td>95.49</td>\n",
       "      <td>26026540</td>\n",
       "      <td>22.391605</td>\n",
       "      <td>22.525875</td>\n",
       "      <td>22.260837</td>\n",
       "      <td>22.298199</td>\n",
       "      <td>104106160</td>\n",
       "      <td>0.0</td>\n",
       "      <td>1.0</td>\n",
       "    </tr>\n",
       "    <tr>\n",
       "      <th>3</th>\n",
       "      <td>AAPL</td>\n",
       "      <td>2016-07-05 00:00:00+00:00</td>\n",
       "      <td>94.99</td>\n",
       "      <td>95.400</td>\n",
       "      <td>94.46</td>\n",
       "      <td>95.39</td>\n",
       "      <td>27705210</td>\n",
       "      <td>22.181442</td>\n",
       "      <td>22.277183</td>\n",
       "      <td>22.057680</td>\n",
       "      <td>22.274848</td>\n",
       "      <td>110820840</td>\n",
       "      <td>0.0</td>\n",
       "      <td>1.0</td>\n",
       "    </tr>\n",
       "    <tr>\n",
       "      <th>4</th>\n",
       "      <td>AAPL</td>\n",
       "      <td>2016-07-06 00:00:00+00:00</td>\n",
       "      <td>95.53</td>\n",
       "      <td>95.660</td>\n",
       "      <td>94.37</td>\n",
       "      <td>94.60</td>\n",
       "      <td>30949090</td>\n",
       "      <td>22.307540</td>\n",
       "      <td>22.337896</td>\n",
       "      <td>22.036664</td>\n",
       "      <td>22.090372</td>\n",
       "      <td>123796360</td>\n",
       "      <td>0.0</td>\n",
       "      <td>1.0</td>\n",
       "    </tr>\n",
       "  </tbody>\n",
       "</table>\n",
       "</div>"
      ],
      "text/plain": [
       "  symbol                       date  close    high    low   open    volume  \\\n",
       "0   AAPL  2016-06-29 00:00:00+00:00  94.40  94.550  93.63  93.97  36531006   \n",
       "1   AAPL  2016-06-30 00:00:00+00:00  95.60  95.770  94.30  94.44  35836356   \n",
       "2   AAPL  2016-07-01 00:00:00+00:00  95.89  96.465  95.33  95.49  26026540   \n",
       "3   AAPL  2016-07-05 00:00:00+00:00  94.99  95.400  94.46  95.39  27705210   \n",
       "4   AAPL  2016-07-06 00:00:00+00:00  95.53  95.660  94.37  94.60  30949090   \n",
       "\n",
       "    adjClose    adjHigh     adjLow    adjOpen  adjVolume  divCash  splitFactor  \n",
       "0  22.043669  22.078696  21.863864  21.943259  146124024      0.0          1.0  \n",
       "1  22.323886  22.363583  22.020318  22.053010  143345424      0.0          1.0  \n",
       "2  22.391605  22.525875  22.260837  22.298199  104106160      0.0          1.0  \n",
       "3  22.181442  22.277183  22.057680  22.274848  110820840      0.0          1.0  \n",
       "4  22.307540  22.337896  22.036664  22.090372  123796360      0.0          1.0  "
      ]
     },
     "execution_count": 3,
     "metadata": {},
     "output_type": "execute_result"
    }
   ],
   "source": [
    "df.head()"
   ]
  },
  {
   "cell_type": "code",
   "execution_count": 4,
   "id": "increasing-burner",
   "metadata": {},
   "outputs": [
    {
     "data": {
      "text/html": [
       "<div>\n",
       "<style scoped>\n",
       "    .dataframe tbody tr th:only-of-type {\n",
       "        vertical-align: middle;\n",
       "    }\n",
       "\n",
       "    .dataframe tbody tr th {\n",
       "        vertical-align: top;\n",
       "    }\n",
       "\n",
       "    .dataframe thead th {\n",
       "        text-align: right;\n",
       "    }\n",
       "</style>\n",
       "<table border=\"1\" class=\"dataframe\">\n",
       "  <thead>\n",
       "    <tr style=\"text-align: right;\">\n",
       "      <th></th>\n",
       "      <th>symbol</th>\n",
       "      <th>date</th>\n",
       "      <th>close</th>\n",
       "      <th>high</th>\n",
       "      <th>low</th>\n",
       "      <th>open</th>\n",
       "      <th>volume</th>\n",
       "      <th>adjClose</th>\n",
       "      <th>adjHigh</th>\n",
       "      <th>adjLow</th>\n",
       "      <th>adjOpen</th>\n",
       "      <th>adjVolume</th>\n",
       "      <th>divCash</th>\n",
       "      <th>splitFactor</th>\n",
       "    </tr>\n",
       "  </thead>\n",
       "  <tbody>\n",
       "    <tr>\n",
       "      <th>1252</th>\n",
       "      <td>AAPL</td>\n",
       "      <td>2021-06-21 00:00:00+00:00</td>\n",
       "      <td>132.30</td>\n",
       "      <td>132.41</td>\n",
       "      <td>129.21</td>\n",
       "      <td>130.30</td>\n",
       "      <td>79663316</td>\n",
       "      <td>132.30</td>\n",
       "      <td>132.41</td>\n",
       "      <td>129.21</td>\n",
       "      <td>130.30</td>\n",
       "      <td>79663316</td>\n",
       "      <td>0.0</td>\n",
       "      <td>1.0</td>\n",
       "    </tr>\n",
       "    <tr>\n",
       "      <th>1253</th>\n",
       "      <td>AAPL</td>\n",
       "      <td>2021-06-22 00:00:00+00:00</td>\n",
       "      <td>133.98</td>\n",
       "      <td>134.08</td>\n",
       "      <td>131.62</td>\n",
       "      <td>132.13</td>\n",
       "      <td>74783618</td>\n",
       "      <td>133.98</td>\n",
       "      <td>134.08</td>\n",
       "      <td>131.62</td>\n",
       "      <td>132.13</td>\n",
       "      <td>74783618</td>\n",
       "      <td>0.0</td>\n",
       "      <td>1.0</td>\n",
       "    </tr>\n",
       "    <tr>\n",
       "      <th>1254</th>\n",
       "      <td>AAPL</td>\n",
       "      <td>2021-06-23 00:00:00+00:00</td>\n",
       "      <td>133.70</td>\n",
       "      <td>134.32</td>\n",
       "      <td>133.23</td>\n",
       "      <td>133.77</td>\n",
       "      <td>60214200</td>\n",
       "      <td>133.70</td>\n",
       "      <td>134.32</td>\n",
       "      <td>133.23</td>\n",
       "      <td>133.77</td>\n",
       "      <td>60214200</td>\n",
       "      <td>0.0</td>\n",
       "      <td>1.0</td>\n",
       "    </tr>\n",
       "    <tr>\n",
       "      <th>1255</th>\n",
       "      <td>AAPL</td>\n",
       "      <td>2021-06-24 00:00:00+00:00</td>\n",
       "      <td>133.41</td>\n",
       "      <td>134.64</td>\n",
       "      <td>132.93</td>\n",
       "      <td>134.45</td>\n",
       "      <td>68710998</td>\n",
       "      <td>133.41</td>\n",
       "      <td>134.64</td>\n",
       "      <td>132.93</td>\n",
       "      <td>134.45</td>\n",
       "      <td>68710998</td>\n",
       "      <td>0.0</td>\n",
       "      <td>1.0</td>\n",
       "    </tr>\n",
       "    <tr>\n",
       "      <th>1256</th>\n",
       "      <td>AAPL</td>\n",
       "      <td>2021-06-25 00:00:00+00:00</td>\n",
       "      <td>133.11</td>\n",
       "      <td>133.89</td>\n",
       "      <td>132.81</td>\n",
       "      <td>133.46</td>\n",
       "      <td>70783746</td>\n",
       "      <td>133.11</td>\n",
       "      <td>133.89</td>\n",
       "      <td>132.81</td>\n",
       "      <td>133.46</td>\n",
       "      <td>70783746</td>\n",
       "      <td>0.0</td>\n",
       "      <td>1.0</td>\n",
       "    </tr>\n",
       "  </tbody>\n",
       "</table>\n",
       "</div>"
      ],
      "text/plain": [
       "     symbol                       date   close    high     low    open  \\\n",
       "1252   AAPL  2021-06-21 00:00:00+00:00  132.30  132.41  129.21  130.30   \n",
       "1253   AAPL  2021-06-22 00:00:00+00:00  133.98  134.08  131.62  132.13   \n",
       "1254   AAPL  2021-06-23 00:00:00+00:00  133.70  134.32  133.23  133.77   \n",
       "1255   AAPL  2021-06-24 00:00:00+00:00  133.41  134.64  132.93  134.45   \n",
       "1256   AAPL  2021-06-25 00:00:00+00:00  133.11  133.89  132.81  133.46   \n",
       "\n",
       "        volume  adjClose  adjHigh  adjLow  adjOpen  adjVolume  divCash  \\\n",
       "1252  79663316    132.30   132.41  129.21   130.30   79663316      0.0   \n",
       "1253  74783618    133.98   134.08  131.62   132.13   74783618      0.0   \n",
       "1254  60214200    133.70   134.32  133.23   133.77   60214200      0.0   \n",
       "1255  68710998    133.41   134.64  132.93   134.45   68710998      0.0   \n",
       "1256  70783746    133.11   133.89  132.81   133.46   70783746      0.0   \n",
       "\n",
       "      splitFactor  \n",
       "1252          1.0  \n",
       "1253          1.0  \n",
       "1254          1.0  \n",
       "1255          1.0  \n",
       "1256          1.0  "
      ]
     },
     "execution_count": 4,
     "metadata": {},
     "output_type": "execute_result"
    }
   ],
   "source": [
    "df.tail()"
   ]
  },
  {
   "cell_type": "markdown",
   "id": "generic-myrtle",
   "metadata": {},
   "source": [
    "## Data Preprocessing"
   ]
  },
  {
   "cell_type": "code",
   "execution_count": 5,
   "id": "cordless-court",
   "metadata": {},
   "outputs": [],
   "source": [
    "df1 = df.reset_index()['close']"
   ]
  },
  {
   "cell_type": "code",
   "execution_count": 6,
   "id": "collected-lender",
   "metadata": {},
   "outputs": [
    {
     "data": {
      "text/plain": [
       "(1257,)"
      ]
     },
     "execution_count": 6,
     "metadata": {},
     "output_type": "execute_result"
    }
   ],
   "source": [
    "df1.shape"
   ]
  },
  {
   "cell_type": "code",
   "execution_count": 7,
   "id": "ideal-slovak",
   "metadata": {},
   "outputs": [
    {
     "data": {
      "text/plain": [
       "[<matplotlib.lines.Line2D at 0x25ead2ee610>]"
      ]
     },
     "execution_count": 7,
     "metadata": {},
     "output_type": "execute_result"
    },
    {
     "data": {
      "image/png": "[encoded data removed]",
      "text/plain": [
       "<Figure size 432x288 with 1 Axes>"
      ]
     },
     "metadata": {
      "needs_background": "light"
     },
     "output_type": "display_data"
    }
   ],
   "source": [
    "plt.plot(df1)"
   ]
  },
  {
   "cell_type": "markdown",
   "id": "artistic-george",
   "metadata": {},
   "source": [
    "__LSTM are sensetive to the scale so we will apply MinMaxScaler__"
   ]
  },
  {
   "cell_type": "code",
   "execution_count": 8,
   "id": "overhead-exploration",
   "metadata": {},
   "outputs": [],
   "source": [
    "scaler = MinMaxScaler(feature_range=(0,1))\n",
    "df1 = scaler.fit_transform(np.array(df1).reshape(-1,1))"
   ]
  },
  {
   "cell_type": "code",
   "execution_count": 9,
   "id": "invisible-fourth",
   "metadata": {},
   "outputs": [
    {
     "data": {
      "text/plain": [
       "(1257, 1)"
      ]
     },
     "execution_count": 9,
     "metadata": {},
     "output_type": "execute_result"
    }
   ],
   "source": [
    "df1.shape"
   ]
  },
  {
   "cell_type": "markdown",
   "id": "fiscal-sauce",
   "metadata": {},
   "source": [
    "## Train Test splitting"
   ]
  },
  {
   "cell_type": "code",
   "execution_count": 10,
   "id": "disabled-knitting",
   "metadata": {},
   "outputs": [],
   "source": [
    "training_size = int(len(df1)*0.70)\n",
    "test_size = len(df1) - training_size\n",
    "\n",
    "train_data, test_data = df1[0:training_size,:], df1[training_size:len(df1),:1]"
   ]
  },
  {
   "cell_type": "code",
   "execution_count": 11,
   "id": "swedish-cooler",
   "metadata": {},
   "outputs": [],
   "source": [
    "# Converting the array of values into a dataset matrix\n",
    "def create_dataset(dataset, time_step=1):\n",
    "    data_X, data_Y = [], []\n",
    "    for i in range(len(dataset)-time_step-1):\n",
    "        record = dataset[i:(i+time_step), 0]\n",
    "        #i=0, 0,1,2,3-----99\n",
    "        data_X.append(record)\n",
    "        data_Y.append(dataset[i + time_step, 0])\n",
    "    return np.array(data_X), np.array(data_Y)"
   ]
  },
  {
   "cell_type": "code",
   "execution_count": 12,
   "id": "encouraging-standard",
   "metadata": {},
   "outputs": [],
   "source": [
    "# Reshape into X=t,t+1,t+2,t+3 and Y=t+4\n",
    "time_step = 100\n",
    "X_train, y_train = create_dataset(train_data, time_step)\n",
    "X_test, y_test = create_dataset(test_data, time_step)"
   ]
  },
  {
   "cell_type": "code",
   "execution_count": 13,
   "id": "binding-vaccine",
   "metadata": {
    "scrolled": true
   },
   "outputs": [
    {
     "name": "stdout",
     "output_type": "stream",
     "text": [
      "[[0.         0.00291481 0.00361923 ... 0.03087274 0.0378683  0.03777114]\n",
      " [0.00291481 0.00361923 0.00143312 ... 0.0378683  0.03777114 0.03803833]\n",
      " [0.00361923 0.00143312 0.00274478 ... 0.03777114 0.03803833 0.04209478]\n",
      " ...\n",
      " [0.27783041 0.288178   0.27698025 ... 0.45048459 0.45182054 0.45019311]\n",
      " [0.288178   0.27698025 0.26626831 ... 0.45182054 0.45019311 0.45087323]\n",
      " [0.27698025 0.26626831 0.24032646 ... 0.45019311 0.45087323 0.4494644 ]]\n"
     ]
    }
   ],
   "source": [
    "print(X_train)"
   ]
  },
  {
   "cell_type": "code",
   "execution_count": 14,
   "id": "duplicate-swimming",
   "metadata": {},
   "outputs": [],
   "source": [
    "# Reshaping the input in (samples, time_steps, features) format which is requried for the LSTM model\n",
    "X_train = X_train.reshape(X_train.shape[0],X_train.shape[1], 1)\n",
    "X_test = X_test.reshape(X_test.shape[0],X_test.shape[1], 1)"
   ]
  },
  {
   "cell_type": "code",
   "execution_count": 15,
   "id": "minus-investigation",
   "metadata": {},
   "outputs": [
    {
     "name": "stdout",
     "output_type": "stream",
     "text": [
      "(778, 100, 1)\n"
     ]
    }
   ],
   "source": [
    "print(X_train.shape)"
   ]
  },
  {
   "cell_type": "markdown",
   "id": "fixed-feature",
   "metadata": {},
   "source": [
    "## Model Building"
   ]
  },
  {
   "cell_type": "code",
   "execution_count": 16,
   "id": "extreme-miller",
   "metadata": {},
   "outputs": [],
   "source": [
    "model = Sequential()\n",
    "model.add(LSTM(50, return_sequences = True, input_shape=(100,1)))\n",
    "model.add(LSTM(50, return_sequences=True))\n",
    "model.add(LSTM(50))\n",
    "model.add(Dense(1))\n",
    "model.compile(loss='mean_squared_error', optimizer='adam')"
   ]
  },
  {
   "cell_type": "code",
   "execution_count": 17,
   "id": "sporting-spencer",
   "metadata": {},
   "outputs": [
    {
     "name": "stdout",
     "output_type": "stream",
     "text": [
      "Model: \"sequential\"\n",
      "_________________________________________________________________\n",
      "Layer (type)                 Output Shape              Param #   \n",
      "=================================================================\n",
      "lstm (LSTM)                  (None, 100, 50)           10400     \n",
      "_________________________________________________________________\n",
      "lstm_1 (LSTM)                (None, 100, 50)           20200     \n",
      "_________________________________________________________________\n",
      "lstm_2 (LSTM)                (None, 50)                20200     \n",
      "_________________________________________________________________\n",
      "dense (Dense)                (None, 1)                 51        \n",
      "=================================================================\n",
      "Total params: 50,851\n",
      "Trainable params: 50,851\n",
      "Non-trainable params: 0\n",
      "_________________________________________________________________\n"
     ]
    }
   ],
   "source": [
    "model.summary()"
   ]
  },
  {
   "cell_type": "code",
   "execution_count": 27,
   "id": "incorrect-fifteen",
   "metadata": {
    "scrolled": true
   },
   "outputs": [
    {
     "name": "stdout",
     "output_type": "stream",
     "text": [
      "Epoch 1/100\n",
      "13/13 [==============================] - 5s 384ms/step - loss: 5.6636e-05 - val_loss: 0.0035\n",
      "Epoch 2/100\n",
      "13/13 [==============================] - 5s 375ms/step - loss: 5.0211e-05 - val_loss: 0.0035\n",
      "Epoch 3/100\n",
      "13/13 [==============================] - 5s 370ms/step - loss: 4.7023e-05 - val_loss: 0.0035\n",
      "Epoch 4/100\n",
      "13/13 [==============================] - 5s 370ms/step - loss: 4.7556e-05 - val_loss: 0.0035\n",
      "Epoch 5/100\n",
      "13/13 [==============================] - 5s 367ms/step - loss: 4.7818e-05 - val_loss: 0.0035\n",
      "Epoch 6/100\n",
      "13/13 [==============================] - 5s 361ms/step - loss: 4.6954e-05 - val_loss: 0.0035\n",
      "Epoch 7/100\n",
      "13/13 [==============================] - 5s 384ms/step - loss: 4.6878e-05 - val_loss: 0.0035\n",
      "Epoch 8/100\n",
      "13/13 [==============================] - 5s 409ms/step - loss: 4.7814e-05 - val_loss: 0.0035\n",
      "Epoch 9/100\n",
      "13/13 [==============================] - 5s 372ms/step - loss: 4.6992e-05 - val_loss: 0.0035\n",
      "Epoch 10/100\n",
      "13/13 [==============================] - 5s 365ms/step - loss: 4.9582e-05 - val_loss: 0.0035\n",
      "Epoch 11/100\n",
      "13/13 [==============================] - 5s 367ms/step - loss: 4.8162e-05 - val_loss: 0.0034\n",
      "Epoch 12/100\n",
      "13/13 [==============================] - 5s 382ms/step - loss: 4.7338e-05 - val_loss: 0.0035\n",
      "Epoch 13/100\n",
      "13/13 [==============================] - 5s 372ms/step - loss: 4.9147e-05 - val_loss: 0.0034\n",
      "Epoch 14/100\n",
      "13/13 [==============================] - 5s 378ms/step - loss: 4.7162e-05 - val_loss: 0.0034\n",
      "Epoch 15/100\n",
      "13/13 [==============================] - 5s 416ms/step - loss: 4.7520e-05 - val_loss: 0.0034\n",
      "Epoch 16/100\n",
      "13/13 [==============================] - 5s 386ms/step - loss: 5.0173e-05 - val_loss: 0.0034\n",
      "Epoch 17/100\n",
      "13/13 [==============================] - 5s 360ms/step - loss: 4.7187e-05 - val_loss: 0.0034\n",
      "Epoch 18/100\n",
      "13/13 [==============================] - 5s 364ms/step - loss: 4.8784e-05 - val_loss: 0.0034\n",
      "Epoch 19/100\n",
      "13/13 [==============================] - 5s 361ms/step - loss: 4.8973e-05 - val_loss: 0.0034\n",
      "Epoch 20/100\n",
      "13/13 [==============================] - 5s 361ms/step - loss: 5.1614e-05 - val_loss: 0.0035\n",
      "Epoch 21/100\n",
      "13/13 [==============================] - 5s 362ms/step - loss: 5.5680e-05 - val_loss: 0.0034\n",
      "Epoch 22/100\n",
      "13/13 [==============================] - 5s 363ms/step - loss: 4.9993e-05 - val_loss: 0.0034\n",
      "Epoch 23/100\n",
      "13/13 [==============================] - 5s 364ms/step - loss: 4.9958e-05 - val_loss: 0.0034\n",
      "Epoch 24/100\n",
      "13/13 [==============================] - 5s 389ms/step - loss: 4.9830e-05 - val_loss: 0.0034\n",
      "Epoch 25/100\n",
      "13/13 [==============================] - 5s 364ms/step - loss: 4.7520e-05 - val_loss: 0.0034\n",
      "Epoch 26/100\n",
      "13/13 [==============================] - 5s 384ms/step - loss: 4.7585e-05 - val_loss: 0.0034\n",
      "Epoch 27/100\n",
      "13/13 [==============================] - 5s 382ms/step - loss: 4.6882e-05 - val_loss: 0.0034\n",
      "Epoch 28/100\n",
      "13/13 [==============================] - 6s 449ms/step - loss: 5.0161e-05 - val_loss: 0.0034\n",
      "Epoch 29/100\n",
      "13/13 [==============================] - 6s 439ms/step - loss: 5.1771e-05 - val_loss: 0.0034\n",
      "Epoch 30/100\n",
      "13/13 [==============================] - 5s 418ms/step - loss: 4.9907e-05 - val_loss: 0.0034\n",
      "Epoch 31/100\n",
      "13/13 [==============================] - 5s 376ms/step - loss: 4.7377e-05 - val_loss: 0.0035\n",
      "Epoch 32/100\n",
      "13/13 [==============================] - 5s 417ms/step - loss: 4.9110e-05 - val_loss: 0.0034\n",
      "Epoch 33/100\n",
      "13/13 [==============================] - 5s 399ms/step - loss: 4.7985e-05 - val_loss: 0.0034\n",
      "Epoch 34/100\n",
      "13/13 [==============================] - 5s 377ms/step - loss: 4.8992e-05 - val_loss: 0.0034\n",
      "Epoch 35/100\n",
      "13/13 [==============================] - 5s 388ms/step - loss: 4.9164e-05 - val_loss: 0.0034\n",
      "Epoch 36/100\n",
      "13/13 [==============================] - 5s 385ms/step - loss: 5.0785e-05 - val_loss: 0.0034\n",
      "Epoch 37/100\n",
      "13/13 [==============================] - 6s 459ms/step - loss: 4.7528e-05 - val_loss: 0.0034\n",
      "Epoch 38/100\n",
      "13/13 [==============================] - 5s 405ms/step - loss: 4.9060e-05 - val_loss: 0.0034\n",
      "Epoch 39/100\n",
      "13/13 [==============================] - 6s 479ms/step - loss: 5.2089e-05 - val_loss: 0.0034\n",
      "Epoch 40/100\n",
      "13/13 [==============================] - 6s 497ms/step - loss: 4.7853e-05 - val_loss: 0.0034\n",
      "Epoch 41/100\n",
      "13/13 [==============================] - 8s 581ms/step - loss: 4.9475e-05 - val_loss: 0.0034\n",
      "Epoch 42/100\n",
      "13/13 [==============================] - 7s 528ms/step - loss: 4.7564e-05 - val_loss: 0.0034\n",
      "Epoch 43/100\n",
      "13/13 [==============================] - 5s 385ms/step - loss: 5.4942e-05 - val_loss: 0.0034\n",
      "Epoch 44/100\n",
      "13/13 [==============================] - 5s 369ms/step - loss: 5.1796e-05 - val_loss: 0.0034\n",
      "Epoch 45/100\n",
      "13/13 [==============================] - 5s 374ms/step - loss: 4.8877e-05 - val_loss: 0.0034\n",
      "Epoch 46/100\n",
      "13/13 [==============================] - 5s 377ms/step - loss: 4.6715e-05 - val_loss: 0.0034\n",
      "Epoch 47/100\n",
      "13/13 [==============================] - 5s 379ms/step - loss: 4.8110e-05 - val_loss: 0.0034\n",
      "Epoch 48/100\n",
      "13/13 [==============================] - 5s 376ms/step - loss: 4.7262e-05 - val_loss: 0.0034\n",
      "Epoch 49/100\n",
      "13/13 [==============================] - 5s 367ms/step - loss: 4.7650e-05 - val_loss: 0.0034\n",
      "Epoch 50/100\n",
      "13/13 [==============================] - 5s 396ms/step - loss: 4.6932e-05 - val_loss: 0.0034\n",
      "Epoch 51/100\n",
      "13/13 [==============================] - 5s 405ms/step - loss: 5.0719e-05 - val_loss: 0.0034\n",
      "Epoch 52/100\n",
      "13/13 [==============================] - 5s 369ms/step - loss: 4.8740e-05 - val_loss: 0.0034\n",
      "Epoch 53/100\n",
      "13/13 [==============================] - 6s 438ms/step - loss: 5.4104e-05 - val_loss: 0.0034\n",
      "Epoch 54/100\n",
      "13/13 [==============================] - 6s 430ms/step - loss: 4.8942e-05 - val_loss: 0.0034\n",
      "Epoch 55/100\n",
      "13/13 [==============================] - 5s 419ms/step - loss: 4.7598e-05 - val_loss: 0.0034\n",
      "Epoch 56/100\n",
      "13/13 [==============================] - 6s 427ms/step - loss: 4.8304e-05 - val_loss: 0.0034\n",
      "Epoch 57/100\n",
      "13/13 [==============================] - 5s 399ms/step - loss: 4.8352e-05 - val_loss: 0.0034\n",
      "Epoch 58/100\n",
      "13/13 [==============================] - 5s 385ms/step - loss: 4.9626e-05 - val_loss: 0.0034\n",
      "Epoch 59/100\n",
      "13/13 [==============================] - 5s 366ms/step - loss: 5.3250e-05 - val_loss: 0.0034\n",
      "Epoch 60/100\n",
      "13/13 [==============================] - 5s 377ms/step - loss: 4.7866e-05 - val_loss: 0.0034\n",
      "Epoch 61/100\n",
      "13/13 [==============================] - 5s 364ms/step - loss: 4.7567e-05 - val_loss: 0.0034\n",
      "Epoch 62/100\n",
      "13/13 [==============================] - 5s 362ms/step - loss: 5.2313e-05 - val_loss: 0.0034\n",
      "Epoch 63/100\n",
      "13/13 [==============================] - 5s 365ms/step - loss: 5.0671e-05 - val_loss: 0.0034\n",
      "Epoch 64/100\n",
      "13/13 [==============================] - 5s 362ms/step - loss: 5.0644e-05 - val_loss: 0.0034\n",
      "Epoch 65/100\n",
      "13/13 [==============================] - 5s 364ms/step - loss: 4.7965e-05 - val_loss: 0.0034\n",
      "Epoch 66/100\n",
      "13/13 [==============================] - 5s 360ms/step - loss: 4.7153e-05 - val_loss: 0.0034\n",
      "Epoch 67/100\n",
      "13/13 [==============================] - 5s 385ms/step - loss: 4.7069e-05 - val_loss: 0.0034\n",
      "Epoch 68/100\n",
      "13/13 [==============================] - 5s 375ms/step - loss: 4.7540e-05 - val_loss: 0.0034\n",
      "Epoch 69/100\n",
      "13/13 [==============================] - 5s 369ms/step - loss: 5.3927e-05 - val_loss: 0.0034\n",
      "Epoch 70/100\n",
      "13/13 [==============================] - 5s 373ms/step - loss: 4.8417e-05 - val_loss: 0.0034\n",
      "Epoch 71/100\n",
      "13/13 [==============================] - 5s 389ms/step - loss: 5.0531e-05 - val_loss: 0.0034\n",
      "Epoch 72/100\n",
      "13/13 [==============================] - 5s 373ms/step - loss: 5.0382e-05 - val_loss: 0.0034\n",
      "Epoch 73/100\n",
      "13/13 [==============================] - 5s 382ms/step - loss: 5.1731e-05 - val_loss: 0.0034\n",
      "Epoch 74/100\n",
      "13/13 [==============================] - 5s 358ms/step - loss: 4.8988e-05 - val_loss: 0.0034\n",
      "Epoch 75/100\n",
      "13/13 [==============================] - 5s 361ms/step - loss: 4.8151e-05 - val_loss: 0.0034\n",
      "Epoch 76/100\n",
      "13/13 [==============================] - 5s 407ms/step - loss: 4.7074e-05 - val_loss: 0.0034\n",
      "Epoch 77/100\n",
      "13/13 [==============================] - 5s 397ms/step - loss: 4.7921e-05 - val_loss: 0.0034\n",
      "Epoch 78/100\n"
     ]
    },
    {
     "name": "stdout",
     "output_type": "stream",
     "text": [
      "13/13 [==============================] - 5s 375ms/step - loss: 4.8136e-05 - val_loss: 0.0034\n",
      "Epoch 79/100\n",
      "13/13 [==============================] - 5s 416ms/step - loss: 4.7631e-05 - val_loss: 0.0034\n",
      "Epoch 80/100\n",
      "13/13 [==============================] - 5s 382ms/step - loss: 4.6577e-05 - val_loss: 0.0034\n",
      "Epoch 81/100\n",
      "13/13 [==============================] - 5s 400ms/step - loss: 4.8496e-05 - val_loss: 0.0034\n",
      "Epoch 82/100\n",
      "13/13 [==============================] - 5s 404ms/step - loss: 4.7585e-05 - val_loss: 0.0034\n",
      "Epoch 83/100\n",
      "13/13 [==============================] - 5s 393ms/step - loss: 4.6860e-05 - val_loss: 0.0034\n",
      "Epoch 84/100\n",
      "13/13 [==============================] - 5s 418ms/step - loss: 5.3022e-05 - val_loss: 0.0034\n",
      "Epoch 85/100\n",
      "13/13 [==============================] - 6s 449ms/step - loss: 4.8275e-05 - val_loss: 0.0034\n",
      "Epoch 86/100\n",
      "13/13 [==============================] - 5s 385ms/step - loss: 5.0681e-05 - val_loss: 0.0034\n",
      "Epoch 87/100\n",
      "13/13 [==============================] - 5s 362ms/step - loss: 5.2021e-05 - val_loss: 0.0034\n",
      "Epoch 88/100\n",
      "13/13 [==============================] - 5s 374ms/step - loss: 4.6853e-05 - val_loss: 0.0034\n",
      "Epoch 89/100\n",
      "13/13 [==============================] - 5s 388ms/step - loss: 4.7400e-05 - val_loss: 0.0034\n",
      "Epoch 90/100\n",
      "13/13 [==============================] - 5s 420ms/step - loss: 4.9813e-05 - val_loss: 0.0034\n",
      "Epoch 91/100\n",
      "13/13 [==============================] - 5s 370ms/step - loss: 4.7942e-05 - val_loss: 0.0034\n",
      "Epoch 92/100\n",
      "13/13 [==============================] - 5s 363ms/step - loss: 5.8026e-05 - val_loss: 0.0034\n",
      "Epoch 93/100\n",
      "13/13 [==============================] - 5s 361ms/step - loss: 5.2427e-05 - val_loss: 0.0034\n",
      "Epoch 94/100\n",
      "13/13 [==============================] - 5s 362ms/step - loss: 4.8246e-05 - val_loss: 0.0034\n",
      "Epoch 95/100\n",
      "13/13 [==============================] - 6s 466ms/step - loss: 4.6630e-05 - val_loss: 0.0034\n",
      "Epoch 96/100\n",
      "13/13 [==============================] - 5s 366ms/step - loss: 4.9667e-05 - val_loss: 0.0034\n",
      "Epoch 97/100\n",
      "13/13 [==============================] - 6s 461ms/step - loss: 4.7896e-05 - val_loss: 0.0034\n",
      "Epoch 98/100\n",
      "13/13 [==============================] - 6s 461ms/step - loss: 4.8423e-05 - val_loss: 0.0034\n",
      "Epoch 99/100\n",
      "13/13 [==============================] - 6s 431ms/step - loss: 5.2962e-05 - val_loss: 0.0034\n",
      "Epoch 100/100\n",
      "13/13 [==============================] - 5s 371ms/step - loss: 4.9938e-05 - val_loss: 0.0034\n"
     ]
    },
    {
     "data": {
      "text/plain": [
       "<tensorflow.python.keras.callbacks.History at 0x25eba1c4e80>"
      ]
     },
     "execution_count": 27,
     "metadata": {},
     "output_type": "execute_result"
    }
   ],
   "source": [
    "model.fit(X_train, y_train, validation_data=(X_test,y_test), epochs=100, batch_size=64)"
   ]
  },
  {
   "cell_type": "markdown",
   "id": "joint-national",
   "metadata": {},
   "source": [
    "##  Prediction and Performance Metrics"
   ]
  },
  {
   "cell_type": "code",
   "execution_count": 28,
   "id": "greenhouse-spouse",
   "metadata": {},
   "outputs": [],
   "source": [
    "train_predict=model.predict(X_train)\n",
    "test_predict=model.predict(X_test)"
   ]
  },
  {
   "cell_type": "code",
   "execution_count": 29,
   "id": "bibliographic-bandwidth",
   "metadata": {},
   "outputs": [],
   "source": [
    "##Transform back to original form\n",
    "train_predict=scaler.inverse_transform(train_predict)\n",
    "test_predict=scaler.inverse_transform(test_predict)"
   ]
  },
  {
   "cell_type": "code",
   "execution_count": 30,
   "id": "positive-checkout",
   "metadata": {},
   "outputs": [
    {
     "data": {
      "text/plain": [
       "183.54756346709235"
      ]
     },
     "execution_count": 30,
     "metadata": {},
     "output_type": "execute_result"
    }
   ],
   "source": [
    "### Calculate RMSE performance metrics\n",
    "math.sqrt(mean_squared_error(y_train,train_predict))"
   ]
  },
  {
   "cell_type": "code",
   "execution_count": 31,
   "id": "worth-stress",
   "metadata": {},
   "outputs": [
    {
     "data": {
      "text/plain": [
       "227.40228146543902"
      ]
     },
     "execution_count": 31,
     "metadata": {},
     "output_type": "execute_result"
    }
   ],
   "source": [
    "### Test Data RMSE\n",
    "math.sqrt(mean_squared_error(y_test,test_predict))"
   ]
  },
  {
   "cell_type": "code",
   "execution_count": 26,
   "id": "tamil-allocation",
   "metadata": {},
   "outputs": [
    {
     "data": {
      "image/png": "[encoded data removed]",
      "text/plain": [
       "<Figure size 432x288 with 1 Axes>"
      ]
     },
     "metadata": {
      "needs_background": "light"
     },
     "output_type": "display_data"
    }
   ],
   "source": [
    "import numpy\n",
    "### Plotting \n",
    "# shift train predictions for plotting\n",
    "look_back=100\n",
    "trainPredictPlot = np.empty_like(df1)\n",
    "trainPredictPlot[:, :] = np.nan\n",
    "trainPredictPlot[look_back:len(train_predict)+look_back, :] = train_predict\n",
    "# shift test predictions for plotting\n",
    "testPredictPlot = numpy.empty_like(df1)\n",
    "testPredictPlot[:, :] = np.nan\n",
    "testPredictPlot[len(train_predict)+(look_back*2)+1:len(df1)-1, :] = test_predict\n",
    "# plot baseline and predictions\n",
    "plt.plot(scaler.inverse_transform(df1))\n",
    "plt.plot(trainPredictPlot)\n",
    "plt.plot(testPredictPlot)\n",
    "plt.show()"
   ]
  },
  {
   "cell_type": "code",
   "execution_count": null,
   "id": "selective-variable",
   "metadata": {},
   "outputs": [],
   "source": []
  }
 ],
 "metadata": {
  "kernelspec": {
   "display_name": "Python 3",
   "language": "python",
   "name": "python3"
  },
  "language_info": {
   "codemirror_mode": {
    "name": "ipython",
    "version": 3
   },
   "file_extension": ".py",
   "mimetype": "text/x-python",
   "name": "python",
   "nbconvert_exporter": "python",
   "pygments_lexer": "ipython3",
   "version": "3.9.5"
  }
 },
 "nbformat": 4,
 "nbformat_minor": 5
}
